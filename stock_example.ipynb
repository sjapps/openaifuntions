{
 "cells": [
  {
   "cell_type": "code",
   "execution_count": 42,
   "metadata": {},
   "outputs": [],
   "source": [
    "!pip -q install openai yfinance"
   ]
  },
  {
   "cell_type": "code",
   "execution_count": 43,
   "metadata": {},
   "outputs": [],
   "source": [
    "import yfinance as yf\n",
    "import openai\n",
    "import json"
   ]
  },
  {
   "cell_type": "code",
   "execution_count": 44,
   "metadata": {},
   "outputs": [],
   "source": [
    "def get_current_stock_price(symbol):\n",
    "    \"\"\"Current stock price. NOTE: This is not live stock update. This is delayed by 15 min. \"\"\"\n",
    "    stock = yf.Ticker(symbol)\n",
    "    todays_data = stock.history(period='1d')\n",
    "    return todays_data['Close'][0]"
   ]
  },
  {
   "cell_type": "code",
   "execution_count": 45,
   "metadata": {},
   "outputs": [],
   "source": [
    "def summarize_stock_price(message, function_name, function_response, stock):\n",
    "    \"\"\"Take the orginal question plus stock price and let GTP summarize it into a natural lanauge.\"\"\"\n",
    "    summary = openai.ChatCompletion.create(\n",
    "            model=\"gpt-3.5-turbo-0613\",\n",
    "            messages=[\n",
    "                {\"role\": \"user\", \"content\": f\"What is the current stock price for {stock}?\"},\n",
    "                message,\n",
    "                {\n",
    "                    \"role\": \"function\",\n",
    "                    \"name\": function_name,\n",
    "                    \"content\": function_response,\n",
    "                },\n",
    "            ],\n",
    "        )\n",
    "    return summary[\"choices\"][0][\"message\"]"
   ]
  },
  {
   "cell_type": "code",
   "execution_count": 46,
   "metadata": {},
   "outputs": [
    {
     "name": "stdout",
     "output_type": "stream",
     "text": [
      "{\n",
      "  \"role\": \"assistant\",\n",
      "  \"content\": \"The current stock price for Tesla (TSLA) is $256.79. Please note that stock prices are subject to change and may vary depending on the source you use for real-time pricing.\"\n",
      "}\n"
     ]
    }
   ],
   "source": [
    "symbol = \"TSLA\"\n",
    "\n",
    "def run_conversation():\n",
    "    response = openai.ChatCompletion.create(\n",
    "        model=\"gpt-3.5-turbo-0613\",\n",
    "        messages=[{\"role\": \"user\", \"content\": f\"What is the current stock price for symbol {symbol}?\"}],\n",
    "        functions=[\n",
    "            {\n",
    "                \"name\": \"get_current_stock_price\",\n",
    "                \"description\": \"Get the current stock price for a symbol\",\n",
    "                \"parameters\": {\n",
    "                    \"type\": \"object\",\n",
    "                    \"properties\": {\n",
    "                        \"symbol\": {\n",
    "                            \"type\": \"string\",\n",
    "                            \"description\": \"The stock symbol or code, e.g. APPL, TSLA\",\n",
    "                        }\n",
    "                    },\n",
    "                    \"required\": [\"symbol\"],\n",
    "                },\n",
    "            }\n",
    "        ],\n",
    "        function_call=\"auto\",\n",
    "    )\n",
    "\n",
    "    message = response[\"choices\"][0][\"message\"]\n",
    "\n",
    "    # Check if GPT response has funtion call. \n",
    "    # If so, execute the funtion\n",
    "    if message.get(\"function_call\"):\n",
    "        function_name = message[\"function_call\"][\"name\"]\n",
    "\n",
    "        if function_name == \"get_current_stock_price\":\n",
    "            arguments = message[\"function_call\"][\"arguments\"]\n",
    "            arguments_json = json.loads(arguments)\n",
    "\n",
    "            function_response = get_current_stock_price(\n",
    "                symbol=arguments_json.get(\"symbol\")\n",
    "            )\n",
    "            stock_message = f\"Price of stock is {function_response}. Note: This is not live. This is 15-min delayed stock price.\"\n",
    "\n",
    "            summary = summarize_stock_price(message, function_name, stock_message, symbol)\n",
    "\n",
    "            return summary\n",
    "\n",
    "print(run_conversation())"
   ]
  }
 ],
 "metadata": {
  "kernelspec": {
   "display_name": "Python 3",
   "language": "python",
   "name": "python3"
  },
  "language_info": {
   "codemirror_mode": {
    "name": "ipython",
    "version": 3
   },
   "file_extension": ".py",
   "mimetype": "text/x-python",
   "name": "python",
   "nbconvert_exporter": "python",
   "pygments_lexer": "ipython3",
   "version": "3.10.8"
  },
  "orig_nbformat": 4
 },
 "nbformat": 4,
 "nbformat_minor": 2
}
